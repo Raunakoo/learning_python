{
 "cells": [
  {
   "cell_type": "code",
   "execution_count": 158,
   "metadata": {},
   "outputs": [],
   "source": [
    "##########################\n",
    "#imports the random module\n",
    "##########################\n",
    "\n",
    "import random"
   ]
  },
  {
   "cell_type": "code",
   "execution_count": 159,
   "metadata": {},
   "outputs": [],
   "source": [
    "#############################\n",
    "#all the letters of the abc\n",
    "############################\n",
    "\n",
    "abc=\"abcdefghijklmnopqrstuvwxyz\""
   ]
  },
  {
   "cell_type": "code",
   "execution_count": 160,
   "metadata": {},
   "outputs": [],
   "source": [
    "###########################\n",
    "#Chooses random one letter\n",
    "###########################\n",
    "\n",
    "letter1=abc[random.randrange(26)]"
   ]
  },
  {
   "cell_type": "code",
   "execution_count": 161,
   "metadata": {},
   "outputs": [],
   "source": [
    "###########################\n",
    "#Chooses random one letter\n",
    "###########################\n",
    "\n",
    "letter2=abc[random.randrange(26)]"
   ]
  },
  {
   "cell_type": "code",
   "execution_count": 162,
   "metadata": {},
   "outputs": [],
   "source": [
    "###########################\n",
    "#Chooses random one letter\n",
    "###########################\n",
    "\n",
    "letter3=abc[random.randrange(26)]"
   ]
  },
  {
   "cell_type": "code",
   "execution_count": 163,
   "metadata": {},
   "outputs": [],
   "source": [
    "##########################\n",
    "'''\n",
    "random_word saves a random three letter word by \n",
    "adding the previous three variable\n",
    "'''\n",
    "##########################\n",
    "\n",
    "random_word = letter1 + letter2 + letter3"
   ]
  },
  {
   "cell_type": "code",
   "execution_count": 164,
   "metadata": {},
   "outputs": [
    {
     "name": "stdout",
     "output_type": "stream",
     "text": [
      "qea\n"
     ]
    }
   ],
   "source": [
    "####################\n",
    "#Print random word\n",
    "###################\n",
    "\n",
    "print(random_word)"
   ]
  }
 ],
 "metadata": {
  "kernelspec": {
   "display_name": "Python 3",
   "language": "python",
   "name": "python3"
  },
  "language_info": {
   "codemirror_mode": {
    "name": "ipython",
    "version": 3
   },
   "file_extension": ".py",
   "mimetype": "text/x-python",
   "name": "python",
   "nbconvert_exporter": "python",
   "pygments_lexer": "ipython3",
   "version": "3.6.4"
  }
 },
 "nbformat": 4,
 "nbformat_minor": 2
}
