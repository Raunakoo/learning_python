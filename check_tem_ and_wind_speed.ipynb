{
 "cells": [
  {
   "cell_type": "code",
   "execution_count": 33,
   "metadata": {},
   "outputs": [
    {
     "name": "stdout",
     "output_type": "stream",
     "text": [
      "enter the temparature without the degrees sign56\n"
     ]
    }
   ],
   "source": [
    "input_temp = int(input(\"enter the temparature without the degrees sign\"))"
   ]
  },
  {
   "cell_type": "code",
   "execution_count": 34,
   "metadata": {},
   "outputs": [
    {
     "name": "stdout",
     "output_type": "stream",
     "text": [
      "Enter the wind speed21\n"
     ]
    }
   ],
   "source": [
    "input_wind = int(input(\"Enter the wind speed\"))"
   ]
  },
  {
   "cell_type": "code",
   "execution_count": 35,
   "metadata": {},
   "outputs": [],
   "source": [
    "def wind_speed():\n",
    "    if input_wind > 12:\n",
    "        print(\"it is windy\")\n",
    "    else:\n",
    "        print(\"it is not windy\")\n"
   ]
  },
  {
   "cell_type": "code",
   "execution_count": 36,
   "metadata": {},
   "outputs": [
    {
     "name": "stdout",
     "output_type": "stream",
     "text": [
      "it is cold\n",
      "it is windy\n"
     ]
    }
   ],
   "source": [
    "def temp_check():\n",
    "    if input_temp > 75:\n",
    "        print(\"it is a hot day\")\n",
    "    else:\n",
    "        print(\"it is cold\")\n",
    "    wind_speed()    \n",
    "temp_check()"
   ]
  },
  {
   "cell_type": "code",
   "execution_count": null,
   "metadata": {},
   "outputs": [],
   "source": []
  }
 ],
 "metadata": {
  "kernelspec": {
   "display_name": "Python 3",
   "language": "python",
   "name": "python3"
  },
  "language_info": {
   "codemirror_mode": {
    "name": "ipython",
    "version": 3
   },
   "file_extension": ".py",
   "mimetype": "text/x-python",
   "name": "python",
   "nbconvert_exporter": "python",
   "pygments_lexer": "ipython3",
   "version": "3.6.4"
  }
 },
 "nbformat": 4,
 "nbformat_minor": 2
}
